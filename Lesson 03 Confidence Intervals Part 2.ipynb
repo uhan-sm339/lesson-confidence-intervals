{
 "cells": [
  {
   "cell_type": "markdown",
   "id": "06db13d4-d44c-4520-a997-60f5ed899139",
   "metadata": {
    "editable": true,
    "slideshow": {
     "slide_type": ""
    },
    "tags": []
   },
   "source": [
    "**SM339 &#x25aa; Applied Statistics &#x25aa; Spring 2024 &#x25aa; Uhan**"
   ]
  },
  {
   "cell_type": "markdown",
   "id": "cdf41363-85bc-4628-b26b-aaba8a2caa8a",
   "metadata": {},
   "source": [
    "# Lesson 3. Confidence Intervals &mdash; Part 2"
   ]
  },
  {
   "cell_type": "markdown",
   "id": "1277ea60-c3fc-457c-84fd-f781d2765134",
   "metadata": {},
   "source": [
    "## Computing confidence intervals in R"
   ]
  },
  {
   "cell_type": "markdown",
   "id": "323d4607-5057-4a18-978d-49a6ff91b0d1",
   "metadata": {},
   "source": [
    "__Example__.\n",
    "Suppose we randomly select 8 midshipmen and record how many children are in their families.\n",
    "These data values are in a CSV file `data/children.csv`, in the same folder as this notebook."
   ]
  },
  {
   "cell_type": "markdown",
   "id": "0b6291f5-936d-4e44-a7b2-6e751258e06f",
   "metadata": {
    "editable": true,
    "slideshow": {
     "slide_type": ""
    },
    "tags": []
   },
   "source": [
    "* First, let's read the CSV file into a data frame called `Children`"
   ]
  },
  {
   "cell_type": "code",
   "execution_count": 1,
   "id": "bee79171-c7b6-4c8e-b83a-108297821213",
   "metadata": {
    "editable": true,
    "slideshow": {
     "slide_type": ""
    },
    "tags": []
   },
   "outputs": [],
   "source": [
    "Children <- read.table('data/children.csv', header=TRUE, sep=',')"
   ]
  },
  {
   "cell_type": "markdown",
   "id": "1f023e61-55b6-4dc3-97ec-b2390a460336",
   "metadata": {
    "editable": true,
    "slideshow": {
     "slide_type": ""
    },
    "tags": []
   },
   "source": [
    "* Next, let's take a look at the first few rows of `Children`\n",
    "\n",
    "    * It's always good practice to do this, just to make sure everything looks OK"
   ]
  },
  {
   "cell_type": "code",
   "execution_count": null,
   "id": "8434bb55-cdbc-49c8-83f9-5e09758e3877",
   "metadata": {
    "editable": true,
    "slideshow": {
     "slide_type": ""
    },
    "tags": []
   },
   "outputs": [],
   "source": []
  },
  {
   "cell_type": "code",
   "execution_count": 2,
   "id": "a1de61b7-39ba-4eb1-963a-e2174073faf6",
   "metadata": {
    "editable": true,
    "slideshow": {
     "slide_type": ""
    },
    "tags": [
     "solution"
    ]
   },
   "outputs": [
    {
     "data": {
      "text/html": [
       "<table class=\"dataframe\">\n",
       "<caption>A data.frame: 6 × 1</caption>\n",
       "<thead>\n",
       "\t<tr><th></th><th scope=col>Number</th></tr>\n",
       "\t<tr><th></th><th scope=col>&lt;int&gt;</th></tr>\n",
       "</thead>\n",
       "<tbody>\n",
       "\t<tr><th scope=row>1</th><td>1</td></tr>\n",
       "\t<tr><th scope=row>2</th><td>4</td></tr>\n",
       "\t<tr><th scope=row>3</th><td>2</td></tr>\n",
       "\t<tr><th scope=row>4</th><td>5</td></tr>\n",
       "\t<tr><th scope=row>5</th><td>6</td></tr>\n",
       "\t<tr><th scope=row>6</th><td>3</td></tr>\n",
       "</tbody>\n",
       "</table>\n"
      ],
      "text/latex": [
       "A data.frame: 6 × 1\n",
       "\\begin{tabular}{r|l}\n",
       "  & Number\\\\\n",
       "  & <int>\\\\\n",
       "\\hline\n",
       "\t1 & 1\\\\\n",
       "\t2 & 4\\\\\n",
       "\t3 & 2\\\\\n",
       "\t4 & 5\\\\\n",
       "\t5 & 6\\\\\n",
       "\t6 & 3\\\\\n",
       "\\end{tabular}\n"
      ],
      "text/markdown": [
       "\n",
       "A data.frame: 6 × 1\n",
       "\n",
       "| <!--/--> | Number &lt;int&gt; |\n",
       "|---|---|\n",
       "| 1 | 1 |\n",
       "| 2 | 4 |\n",
       "| 3 | 2 |\n",
       "| 4 | 5 |\n",
       "| 5 | 6 |\n",
       "| 6 | 3 |\n",
       "\n"
      ],
      "text/plain": [
       "  Number\n",
       "1 1     \n",
       "2 4     \n",
       "3 2     \n",
       "4 5     \n",
       "5 6     \n",
       "6 3     "
      ]
     },
     "metadata": {},
     "output_type": "display_data"
    }
   ],
   "source": [
    "# Solution\n",
    "head(Children)"
   ]
  },
  {
   "cell_type": "markdown",
   "id": "3af3d065-4244-42cd-af95-18ebec575c09",
   "metadata": {
    "editable": true,
    "slideshow": {
     "slide_type": ""
    },
    "tags": []
   },
   "source": [
    "* The values in the `Number` column of this data frame are going to be our sample values $x_1, x_2, \\dots, x_n$\n",
    "\n",
    "* For our convenience, let's create a variable `x` to hold this column"
   ]
  },
  {
   "cell_type": "code",
   "execution_count": null,
   "id": "6c9b2557-0fb2-4673-87c9-4da49ccc069a",
   "metadata": {
    "editable": true,
    "slideshow": {
     "slide_type": ""
    },
    "tags": []
   },
   "outputs": [],
   "source": []
  },
  {
   "cell_type": "code",
   "execution_count": 3,
   "id": "36c212dd-953a-4a71-8fe1-1f786a936a88",
   "metadata": {
    "editable": true,
    "slideshow": {
     "slide_type": ""
    },
    "tags": [
     "solution"
    ]
   },
   "outputs": [],
   "source": [
    "# Solution\n",
    "x <- Children$Number"
   ]
  },
  {
   "attachments": {},
   "cell_type": "markdown",
   "id": "35ccdce0-4307-4a3d-946f-d286d0bac7e8",
   "metadata": {
    "editable": true,
    "slideshow": {
     "slide_type": ""
    },
    "tags": []
   },
   "source": [
    "* Let's calculate a 95% confidence interval for the average number of children in all midshipmen families\n",
    "\n",
    "* Let's start by computing the sample mean (estimate) $\\bar{x} = \\displaystyle \\frac{1}{n} \\sum_{i=1}^{n} x_i$:"
   ]
  },
  {
   "cell_type": "code",
   "execution_count": null,
   "id": "4a6679c0-bbf0-4627-80e2-d71870704932",
   "metadata": {
    "editable": true,
    "slideshow": {
     "slide_type": ""
    },
    "tags": []
   },
   "outputs": [],
   "source": []
  },
  {
   "cell_type": "code",
   "execution_count": 4,
   "id": "8833f9ba-91e7-4fe4-bc72-1b061846b6eb",
   "metadata": {
    "editable": true,
    "slideshow": {
     "slide_type": ""
    },
    "tags": [
     "solution"
    ]
   },
   "outputs": [],
   "source": [
    "# Solution\n",
    "xbar <-  mean(x)"
   ]
  },
  {
   "cell_type": "markdown",
   "id": "b81e4327-3ebd-42c1-9408-a3f00a1c2010",
   "metadata": {
    "editable": true,
    "slideshow": {
     "slide_type": ""
    },
    "tags": []
   },
   "source": [
    "* Next, let's compute the sample standard deviation (estimate) $\\displaystyle s = \\sqrt{\\frac{1}{n-1} \\sum_{i=1}^{n} (x_i - \\bar{x})^2}$: "
   ]
  },
  {
   "cell_type": "code",
   "execution_count": null,
   "id": "06bb3c69-2d01-43fc-bfac-aefa3d522c25",
   "metadata": {
    "editable": true,
    "slideshow": {
     "slide_type": ""
    },
    "tags": []
   },
   "outputs": [],
   "source": []
  },
  {
   "cell_type": "code",
   "execution_count": 5,
   "id": "1acc9061-6bcc-4537-97d6-9a8cdae39012",
   "metadata": {
    "editable": true,
    "slideshow": {
     "slide_type": ""
    },
    "tags": [
     "solution"
    ]
   },
   "outputs": [],
   "source": [
    "# Solution\n",
    "s <- sd(x)"
   ]
  },
  {
   "cell_type": "markdown",
   "id": "3cc7c36b-fbee-43cf-ab38-18379807922b",
   "metadata": {
    "editable": true,
    "slideshow": {
     "slide_type": ""
    },
    "tags": []
   },
   "source": [
    "* We can get the number of samples $n$ by taking the length of `x` (which is the same as the column `Children$Number`):"
   ]
  },
  {
   "cell_type": "code",
   "execution_count": null,
   "id": "19fc9ad0-73df-4b52-833f-40d72f01e29d",
   "metadata": {
    "editable": true,
    "slideshow": {
     "slide_type": ""
    },
    "tags": []
   },
   "outputs": [],
   "source": []
  },
  {
   "cell_type": "code",
   "execution_count": 6,
   "id": "3245a6ca-4b31-4189-b4dd-949e1aa34661",
   "metadata": {
    "editable": true,
    "slideshow": {
     "slide_type": ""
    },
    "tags": [
     "solution"
    ]
   },
   "outputs": [],
   "source": [
    "# Solution\n",
    "n <- length(x)"
   ]
  },
  {
   "cell_type": "markdown",
   "id": "c1cacaf3-52bc-48f2-8621-fc2542e0f842",
   "metadata": {
    "editable": true,
    "slideshow": {
     "slide_type": ""
    },
    "tags": []
   },
   "source": [
    "* We want a $95\\%$ confidence interval\n",
    "\n",
    "* Recall that the significance level $\\alpha = 1 - $ confidence level\n",
    "\n",
    "* So, $\\alpha = 1 - 0.95$:"
   ]
  },
  {
   "cell_type": "code",
   "execution_count": null,
   "id": "fb3e12d2-442f-403d-beac-3d57c999f427",
   "metadata": {
    "editable": true,
    "slideshow": {
     "slide_type": ""
    },
    "tags": []
   },
   "outputs": [],
   "source": []
  },
  {
   "cell_type": "code",
   "execution_count": 7,
   "id": "321e4348-038d-4033-82a2-22b8583250d5",
   "metadata": {
    "editable": true,
    "slideshow": {
     "slide_type": ""
    },
    "tags": [
     "solution"
    ]
   },
   "outputs": [],
   "source": [
    "# Solution\n",
    "alpha <- 1 - 0.95"
   ]
  },
  {
   "cell_type": "markdown",
   "id": "fbe9d995-b0fb-4726-b2ed-41c1ca55e3e7",
   "metadata": {
    "editable": true,
    "slideshow": {
     "slide_type": ""
    },
    "tags": []
   },
   "source": [
    "* Based on `alpha`, we can then compute the critical value $t_{\\alpha/2, n - 1}$ from the $t$-distribution with $n - 1$ degrees of freedom\n",
    "\n",
    "* Recall that $t_{\\alpha/2, n - 1}$ is the $(1 - \\alpha/2)$-quantile of the $t$-distribution with $n - 1$ degrees of freedom:"
   ]
  },
  {
   "cell_type": "code",
   "execution_count": null,
   "id": "6204d1af-b32b-422d-8f6d-b40c1ac568fe",
   "metadata": {
    "editable": true,
    "slideshow": {
     "slide_type": ""
    },
    "tags": []
   },
   "outputs": [],
   "source": []
  },
  {
   "cell_type": "code",
   "execution_count": 8,
   "id": "a755024c-4d56-43df-b4bd-2f06194f2504",
   "metadata": {
    "editable": true,
    "slideshow": {
     "slide_type": ""
    },
    "tags": [
     "solution"
    ]
   },
   "outputs": [],
   "source": [
    "# Solution\n",
    "t <- qt(1 - alpha/2, n - 1)"
   ]
  },
  {
   "cell_type": "markdown",
   "id": "7f4e5773-5716-48d8-8f02-aa97f60556e0",
   "metadata": {
    "editable": true,
    "slideshow": {
     "slide_type": ""
    },
    "tags": []
   },
   "source": [
    "* Finally, we can compute the lower and upper endpoints of the CI, $\\bar{x} \\pm t_{\\alpha/2, n - 1} \\frac{s}{\\sqrt{n}}$:"
   ]
  },
  {
   "cell_type": "code",
   "execution_count": null,
   "id": "2cbfa9d1-256d-40be-a2c6-83e37ed7552f",
   "metadata": {
    "editable": true,
    "slideshow": {
     "slide_type": ""
    },
    "tags": []
   },
   "outputs": [],
   "source": []
  },
  {
   "cell_type": "code",
   "execution_count": 9,
   "id": "e26fbed4-45cd-4553-8185-334058c5d949",
   "metadata": {
    "editable": true,
    "slideshow": {
     "slide_type": ""
    },
    "tags": [
     "solution"
    ]
   },
   "outputs": [
    {
     "data": {
      "text/html": [
       "2.15938406132284"
      ],
      "text/latex": [
       "2.15938406132284"
      ],
      "text/markdown": [
       "2.15938406132284"
      ],
      "text/plain": [
       "[1] 2.159384"
      ]
     },
     "metadata": {},
     "output_type": "display_data"
    },
    {
     "data": {
      "text/html": [
       "4.84061593867716"
      ],
      "text/latex": [
       "4.84061593867716"
      ],
      "text/markdown": [
       "4.84061593867716"
      ],
      "text/plain": [
       "[1] 4.840616"
      ]
     },
     "metadata": {},
     "output_type": "display_data"
    }
   ],
   "source": [
    "# Solution\n",
    "xbar - t * s / sqrt(n)\n",
    "xbar + t * s / sqrt(n)"
   ]
  },
  {
   "cell_type": "markdown",
   "id": "3fe80b55-1f9b-4331-9a87-9fa56afaf930",
   "metadata": {
    "editable": true,
    "slideshow": {
     "slide_type": ""
    },
    "tags": []
   },
   "source": [
    "* Now that we've computed a 95% confidence interval, let's intepret it:"
   ]
  },
  {
   "cell_type": "markdown",
   "id": "2d347ed9-dfaa-4735-81b7-d2df64f22326",
   "metadata": {
    "editable": true,
    "slideshow": {
     "slide_type": ""
    },
    "tags": []
   },
   "source": [
    "*Write your answer here. Double-click to edit.*"
   ]
  },
  {
   "cell_type": "markdown",
   "id": "8799f194-b324-4532-93ec-f70191cc678c",
   "metadata": {
    "editable": true,
    "slideshow": {
     "slide_type": ""
    },
    "tags": [
     "solution"
    ]
   },
   "source": [
    "*Solution.* We are 95% confident that the average number of children in all midshipmen families is between 2.16 and 4.84."
   ]
  },
  {
   "cell_type": "markdown",
   "id": "85218a0a-18ad-43a8-99af-e5a4073fd886",
   "metadata": {
    "editable": true,
    "slideshow": {
     "slide_type": ""
    },
    "tags": []
   },
   "source": [
    "* Which of these correctly explains what it means to be 95% confident?\n",
    "\n",
    "    1. The probability that this interval contains the population average is 0.95.\n",
    "    2. We have constructed this interval with a process that captures the population average 95% of the time.\n",
    "    3. 95% of all midshipmen families have between 2.16 and 4.84 children."
   ]
  },
  {
   "cell_type": "markdown",
   "id": "d0f7213b-35f1-444a-9f45-5b9451554cd1",
   "metadata": {
    "editable": true,
    "slideshow": {
     "slide_type": ""
    },
    "tags": []
   },
   "source": [
    "*Write your answer here. Double-click to edit.*"
   ]
  },
  {
   "cell_type": "markdown",
   "id": "0d4c490d-0bc7-446e-8103-baebbb51f957",
   "metadata": {
    "editable": true,
    "slideshow": {
     "slide_type": ""
    },
    "tags": [
     "solution"
    ]
   },
   "source": [
    "*Solution.* Option 2."
   ]
  },
  {
   "cell_type": "markdown",
   "id": "665b582c-5368-462d-99af-5589a7ff27d2",
   "metadata": {
    "editable": true,
    "slideshow": {
     "slide_type": ""
    },
    "tags": []
   },
   "source": [
    "<hr style=\"border-top: 2px solid gray; margin-top: 1px; margin-bottom: 1px\"></hr>"
   ]
  },
  {
   "cell_type": "markdown",
   "id": "54a3b825-2279-441c-a37a-0362585755e6",
   "metadata": {
    "editable": true,
    "slideshow": {
     "slide_type": ""
    },
    "tags": []
   },
   "source": [
    "## Exercises"
   ]
  },
  {
   "cell_type": "markdown",
   "id": "5f52491d-c3b0-459b-b46d-17e5d51662d0",
   "metadata": {
    "editable": true,
    "slideshow": {
     "slide_type": ""
    },
    "tags": []
   },
   "source": [
    "### Problem 1\n",
    "\n",
    "Suppose the heights of midshipmen are normally distributed.\n",
    "Suppose we randomly select 16 midshipmen and record their heights in inches.\n",
    "These values are in a CSV file `data/heights.csv`, in the same folder as this notebook."
   ]
  },
  {
   "cell_type": "markdown",
   "id": "037a9c58-fb46-4479-9516-5fc8295d5681",
   "metadata": {
    "editable": true,
    "slideshow": {
     "slide_type": ""
    },
    "tags": []
   },
   "source": [
    "(a) Compute the observed sample mean and sample standard deviation."
   ]
  },
  {
   "cell_type": "code",
   "execution_count": null,
   "id": "f6ed53ff-a4bd-4119-af38-52736d06ca1b",
   "metadata": {
    "editable": true,
    "slideshow": {
     "slide_type": ""
    },
    "tags": []
   },
   "outputs": [],
   "source": []
  },
  {
   "cell_type": "code",
   "execution_count": 10,
   "id": "caaee268-a7bf-4c4b-bdbd-aaebfc6a9f47",
   "metadata": {
    "editable": true,
    "slideshow": {
     "slide_type": ""
    },
    "tags": [
     "solution"
    ]
   },
   "outputs": [
    {
     "data": {
      "text/html": [
       "<table class=\"dataframe\">\n",
       "<caption>A data.frame: 6 × 1</caption>\n",
       "<thead>\n",
       "\t<tr><th></th><th scope=col>height</th></tr>\n",
       "\t<tr><th></th><th scope=col>&lt;dbl&gt;</th></tr>\n",
       "</thead>\n",
       "<tbody>\n",
       "\t<tr><th scope=row>1</th><td>72.2</td></tr>\n",
       "\t<tr><th scope=row>2</th><td>67.4</td></tr>\n",
       "\t<tr><th scope=row>3</th><td>74.3</td></tr>\n",
       "\t<tr><th scope=row>4</th><td>72.6</td></tr>\n",
       "\t<tr><th scope=row>5</th><td>70.8</td></tr>\n",
       "\t<tr><th scope=row>6</th><td>76.9</td></tr>\n",
       "</tbody>\n",
       "</table>\n"
      ],
      "text/latex": [
       "A data.frame: 6 × 1\n",
       "\\begin{tabular}{r|l}\n",
       "  & height\\\\\n",
       "  & <dbl>\\\\\n",
       "\\hline\n",
       "\t1 & 72.2\\\\\n",
       "\t2 & 67.4\\\\\n",
       "\t3 & 74.3\\\\\n",
       "\t4 & 72.6\\\\\n",
       "\t5 & 70.8\\\\\n",
       "\t6 & 76.9\\\\\n",
       "\\end{tabular}\n"
      ],
      "text/markdown": [
       "\n",
       "A data.frame: 6 × 1\n",
       "\n",
       "| <!--/--> | height &lt;dbl&gt; |\n",
       "|---|---|\n",
       "| 1 | 72.2 |\n",
       "| 2 | 67.4 |\n",
       "| 3 | 74.3 |\n",
       "| 4 | 72.6 |\n",
       "| 5 | 70.8 |\n",
       "| 6 | 76.9 |\n",
       "\n"
      ],
      "text/plain": [
       "  height\n",
       "1 72.2  \n",
       "2 67.4  \n",
       "3 74.3  \n",
       "4 72.6  \n",
       "5 70.8  \n",
       "6 76.9  "
      ]
     },
     "metadata": {},
     "output_type": "display_data"
    },
    {
     "data": {
      "text/html": [
       "71.55"
      ],
      "text/latex": [
       "71.55"
      ],
      "text/markdown": [
       "71.55"
      ],
      "text/plain": [
       "[1] 71.55"
      ]
     },
     "metadata": {},
     "output_type": "display_data"
    },
    {
     "data": {
      "text/html": [
       "2.66958174002346"
      ],
      "text/latex": [
       "2.66958174002346"
      ],
      "text/markdown": [
       "2.66958174002346"
      ],
      "text/plain": [
       "[1] 2.669582"
      ]
     },
     "metadata": {},
     "output_type": "display_data"
    }
   ],
   "source": [
    "# Solution \n",
    "Heights <- read.table('data/heights.csv', header=TRUE, sep=',')\n",
    "head(Heights)\n",
    "\n",
    "x <- Heights$height\n",
    "mean(x)\n",
    "sd(x)"
   ]
  },
  {
   "cell_type": "markdown",
   "id": "261b96e6-b217-476b-adb8-0cda29b8338d",
   "metadata": {},
   "source": [
    "(b) Find 90%, 95%, and 99% confidence intervals for the population (all midshipmen) mean height."
   ]
  },
  {
   "cell_type": "code",
   "execution_count": null,
   "id": "ece60370-391d-4737-98bf-c98958654356",
   "metadata": {},
   "outputs": [],
   "source": []
  },
  {
   "cell_type": "code",
   "execution_count": 11,
   "id": "b71e0b71-e039-4392-845e-d015daa067bf",
   "metadata": {
    "tags": [
     "solution"
    ]
   },
   "outputs": [
    {
     "data": {
      "text/html": [
       "70.3800221952754"
      ],
      "text/latex": [
       "70.3800221952754"
      ],
      "text/markdown": [
       "70.3800221952754"
      ],
      "text/plain": [
       "[1] 70.38002"
      ]
     },
     "metadata": {},
     "output_type": "display_data"
    },
    {
     "data": {
      "text/html": [
       "72.7199778047246"
      ],
      "text/latex": [
       "72.7199778047246"
      ],
      "text/markdown": [
       "72.7199778047246"
      ],
      "text/plain": [
       "[1] 72.71998"
      ]
     },
     "metadata": {},
     "output_type": "display_data"
    }
   ],
   "source": [
    "# Solution\n",
    "# 90% CI\n",
    "xbar <- mean(x)\n",
    "s <- sd(x)\n",
    "alpha <- 1 - 0.9\n",
    "n <- length(x)\n",
    "t <- qt(1 - alpha / 2, n - 1)\n",
    "\n",
    "xbar - t * s / sqrt(n)\n",
    "xbar + t * s / sqrt(n)"
   ]
  },
  {
   "cell_type": "code",
   "execution_count": null,
   "id": "a4769d49-0cf0-47e0-bff3-b72561729f68",
   "metadata": {},
   "outputs": [],
   "source": []
  },
  {
   "cell_type": "code",
   "execution_count": 12,
   "id": "b28ec89f-069b-4619-a566-bc6a2b521f75",
   "metadata": {
    "tags": [
     "solution"
    ]
   },
   "outputs": [
    {
     "data": {
      "text/html": [
       "70.1274803033481"
      ],
      "text/latex": [
       "70.1274803033481"
      ],
      "text/markdown": [
       "70.1274803033481"
      ],
      "text/plain": [
       "[1] 70.12748"
      ]
     },
     "metadata": {},
     "output_type": "display_data"
    },
    {
     "data": {
      "text/html": [
       "72.9725196966519"
      ],
      "text/latex": [
       "72.9725196966519"
      ],
      "text/markdown": [
       "72.9725196966519"
      ],
      "text/plain": [
       "[1] 72.97252"
      ]
     },
     "metadata": {},
     "output_type": "display_data"
    }
   ],
   "source": [
    "# Solution\n",
    "# 95% CI\n",
    "xbar <- mean(x)\n",
    "s <- sd(x)\n",
    "alpha <- 1 - 0.95\n",
    "n <- length(x)\n",
    "t <- qt(1 - alpha / 2, n - 1)\n",
    "\n",
    "xbar - t * s / sqrt(n)\n",
    "xbar + t * s / sqrt(n)"
   ]
  },
  {
   "cell_type": "code",
   "execution_count": null,
   "id": "b3c3f9f9-8f5b-4627-afa1-7980bb9b93fb",
   "metadata": {},
   "outputs": [],
   "source": []
  },
  {
   "cell_type": "code",
   "execution_count": 13,
   "id": "0c6c9fc2-25da-4326-965d-6255cf28d5f2",
   "metadata": {
    "tags": [
     "solution"
    ]
   },
   "outputs": [
    {
     "data": {
      "text/html": [
       "69.5833772732957"
      ],
      "text/latex": [
       "69.5833772732957"
      ],
      "text/markdown": [
       "69.5833772732957"
      ],
      "text/plain": [
       "[1] 69.58338"
      ]
     },
     "metadata": {},
     "output_type": "display_data"
    },
    {
     "data": {
      "text/html": [
       "73.5166227267043"
      ],
      "text/latex": [
       "73.5166227267043"
      ],
      "text/markdown": [
       "73.5166227267043"
      ],
      "text/plain": [
       "[1] 73.51662"
      ]
     },
     "metadata": {},
     "output_type": "display_data"
    }
   ],
   "source": [
    "# Solution\n",
    "# 99% CI\n",
    "xbar <- mean(x)\n",
    "s <- sd(x)\n",
    "alpha <- 1 - 0.99\n",
    "n <- length(x)\n",
    "t <- qt(1 - alpha / 2, n - 1)\n",
    "\n",
    "xbar - t * s / sqrt(n)\n",
    "xbar + t * s / sqrt(n)"
   ]
  },
  {
   "cell_type": "markdown",
   "id": "84c0a7f4-4993-4d9a-9840-204060ff6570",
   "metadata": {
    "tags": []
   },
   "source": [
    "### Problem 2\n",
    "\n",
    "Suppose the math SAT scores of midshipmen are approximately normally distributed.\n",
    "Suppose we randomly select 25 midshipmen and record their math SAT scores.\n",
    "These values are in a CSV file `data/scores.csv`, in the same folder as this notebook."
   ]
  },
  {
   "cell_type": "markdown",
   "id": "55363ee8-a491-4a55-89fd-94caaef431bd",
   "metadata": {
    "editable": true,
    "slideshow": {
     "slide_type": ""
    },
    "tags": []
   },
   "source": [
    "(a) Compute the observed sample mean and sample standard deviation."
   ]
  },
  {
   "cell_type": "code",
   "execution_count": null,
   "id": "3e6d3d33-7c35-4b85-a85e-d39284bf02a9",
   "metadata": {
    "editable": true,
    "slideshow": {
     "slide_type": ""
    },
    "tags": []
   },
   "outputs": [],
   "source": []
  },
  {
   "cell_type": "code",
   "execution_count": 14,
   "id": "97bf49fb-115d-41a0-bda0-358e97f4a6f9",
   "metadata": {
    "tags": [
     "solution"
    ]
   },
   "outputs": [
    {
     "data": {
      "text/html": [
       "<table class=\"dataframe\">\n",
       "<caption>A data.frame: 6 × 1</caption>\n",
       "<thead>\n",
       "\t<tr><th></th><th scope=col>score</th></tr>\n",
       "\t<tr><th></th><th scope=col>&lt;int&gt;</th></tr>\n",
       "</thead>\n",
       "<tbody>\n",
       "\t<tr><th scope=row>1</th><td>490</td></tr>\n",
       "\t<tr><th scope=row>2</th><td>489</td></tr>\n",
       "\t<tr><th scope=row>3</th><td>590</td></tr>\n",
       "\t<tr><th scope=row>4</th><td>517</td></tr>\n",
       "\t<tr><th scope=row>5</th><td>533</td></tr>\n",
       "\t<tr><th scope=row>6</th><td>500</td></tr>\n",
       "</tbody>\n",
       "</table>\n"
      ],
      "text/latex": [
       "A data.frame: 6 × 1\n",
       "\\begin{tabular}{r|l}\n",
       "  & score\\\\\n",
       "  & <int>\\\\\n",
       "\\hline\n",
       "\t1 & 490\\\\\n",
       "\t2 & 489\\\\\n",
       "\t3 & 590\\\\\n",
       "\t4 & 517\\\\\n",
       "\t5 & 533\\\\\n",
       "\t6 & 500\\\\\n",
       "\\end{tabular}\n"
      ],
      "text/markdown": [
       "\n",
       "A data.frame: 6 × 1\n",
       "\n",
       "| <!--/--> | score &lt;int&gt; |\n",
       "|---|---|\n",
       "| 1 | 490 |\n",
       "| 2 | 489 |\n",
       "| 3 | 590 |\n",
       "| 4 | 517 |\n",
       "| 5 | 533 |\n",
       "| 6 | 500 |\n",
       "\n"
      ],
      "text/plain": [
       "  score\n",
       "1 490  \n",
       "2 489  \n",
       "3 590  \n",
       "4 517  \n",
       "5 533  \n",
       "6 500  "
      ]
     },
     "metadata": {},
     "output_type": "display_data"
    },
    {
     "data": {
      "text/html": [
       "515.08"
      ],
      "text/latex": [
       "515.08"
      ],
      "text/markdown": [
       "515.08"
      ],
      "text/plain": [
       "[1] 515.08"
      ]
     },
     "metadata": {},
     "output_type": "display_data"
    },
    {
     "data": {
      "text/html": [
       "66.0150992829166"
      ],
      "text/latex": [
       "66.0150992829166"
      ],
      "text/markdown": [
       "66.0150992829166"
      ],
      "text/plain": [
       "[1] 66.0151"
      ]
     },
     "metadata": {},
     "output_type": "display_data"
    }
   ],
   "source": [
    "# Solution \n",
    "Scores <- read.table('data/scores.csv', header=TRUE, sep=',')\n",
    "head(Scores)\n",
    "\n",
    "x <- Scores$score\n",
    "mean(x)\n",
    "sd(x)"
   ]
  },
  {
   "cell_type": "markdown",
   "id": "13503eee-de53-42e3-8d0f-a406cc5e8711",
   "metadata": {
    "editable": true,
    "slideshow": {
     "slide_type": ""
    },
    "tags": []
   },
   "source": [
    "(b) Find 90%, 95%, and 99% confidence intervals for the population (all midshipmen) mean math SAT score."
   ]
  },
  {
   "cell_type": "code",
   "execution_count": null,
   "id": "e7f63dec-3f00-42e5-93b1-6bab06bd5cf8",
   "metadata": {
    "editable": true,
    "slideshow": {
     "slide_type": ""
    },
    "tags": []
   },
   "outputs": [],
   "source": []
  },
  {
   "cell_type": "code",
   "execution_count": 15,
   "id": "dce14a27-5ddb-45af-8001-99fa06a52342",
   "metadata": {
    "tags": [
     "solution"
    ]
   },
   "outputs": [
    {
     "data": {
      "text/html": [
       "492.491189926683"
      ],
      "text/latex": [
       "492.491189926683"
      ],
      "text/markdown": [
       "492.491189926683"
      ],
      "text/plain": [
       "[1] 492.4912"
      ]
     },
     "metadata": {},
     "output_type": "display_data"
    },
    {
     "data": {
      "text/html": [
       "537.668810073317"
      ],
      "text/latex": [
       "537.668810073317"
      ],
      "text/markdown": [
       "537.668810073317"
      ],
      "text/plain": [
       "[1] 537.6688"
      ]
     },
     "metadata": {},
     "output_type": "display_data"
    }
   ],
   "source": [
    "# Solution\n",
    "# 90% CI\n",
    "xbar <- mean(x)\n",
    "s <- sd(x)\n",
    "alpha <- 1 - 0.9\n",
    "n <- length(x)\n",
    "t <- qt(1 - alpha / 2, n - 1)\n",
    "\n",
    "xbar - t * s / sqrt(n)\n",
    "xbar + t * s / sqrt(n)"
   ]
  },
  {
   "cell_type": "code",
   "execution_count": null,
   "id": "924ba92c-5b41-4e61-afc2-02a81765dff5",
   "metadata": {},
   "outputs": [],
   "source": []
  },
  {
   "cell_type": "code",
   "execution_count": 16,
   "id": "5240b0b9-5f02-4718-b2b5-54f8711c6e5b",
   "metadata": {
    "tags": [
     "solution"
    ]
   },
   "outputs": [
    {
     "data": {
      "text/html": [
       "487.830306308852"
      ],
      "text/latex": [
       "487.830306308852"
      ],
      "text/markdown": [
       "487.830306308852"
      ],
      "text/plain": [
       "[1] 487.8303"
      ]
     },
     "metadata": {},
     "output_type": "display_data"
    },
    {
     "data": {
      "text/html": [
       "542.329693691149"
      ],
      "text/latex": [
       "542.329693691149"
      ],
      "text/markdown": [
       "542.329693691149"
      ],
      "text/plain": [
       "[1] 542.3297"
      ]
     },
     "metadata": {},
     "output_type": "display_data"
    }
   ],
   "source": [
    "# Solution\n",
    "# 95% CI\n",
    "xbar <- mean(x)\n",
    "s <- sd(x)\n",
    "alpha <- 1 - 0.95\n",
    "n <- length(x)\n",
    "t <- qt(1 - alpha / 2, n - 1)\n",
    "\n",
    "xbar - t * s / sqrt(n)\n",
    "xbar + t * s / sqrt(n)"
   ]
  },
  {
   "cell_type": "code",
   "execution_count": null,
   "id": "fa79b83e-5a80-4bf8-b1b3-1fb4925d42e8",
   "metadata": {},
   "outputs": [],
   "source": []
  },
  {
   "cell_type": "code",
   "execution_count": 17,
   "id": "5796a34c-4f1d-4f01-b6f9-0cc9449b6f5c",
   "metadata": {
    "tags": [
     "solution"
    ]
   },
   "outputs": [
    {
     "data": {
      "text/html": [
       "478.151952180801"
      ],
      "text/latex": [
       "478.151952180801"
      ],
      "text/markdown": [
       "478.151952180801"
      ],
      "text/plain": [
       "[1] 478.152"
      ]
     },
     "metadata": {},
     "output_type": "display_data"
    },
    {
     "data": {
      "text/html": [
       "552.008047819199"
      ],
      "text/latex": [
       "552.008047819199"
      ],
      "text/markdown": [
       "552.008047819199"
      ],
      "text/plain": [
       "[1] 552.008"
      ]
     },
     "metadata": {},
     "output_type": "display_data"
    }
   ],
   "source": [
    "# Solution\n",
    "# 99% CI\n",
    "xbar <- mean(x)\n",
    "s <- sd(x)\n",
    "alpha <- 1 - 0.99\n",
    "n <- length(x)\n",
    "t <- qt(1 - alpha / 2, n - 1)\n",
    "\n",
    "xbar - t * s / sqrt(n)\n",
    "xbar + t * s / sqrt(n)"
   ]
  },
  {
   "cell_type": "markdown",
   "id": "19756f22-6e3a-490b-a887-352b11d2406b",
   "metadata": {
    "editable": true,
    "slideshow": {
     "slide_type": ""
    },
    "tags": []
   },
   "source": [
    "### Problem 3\n",
    "\n",
    "A study of 20 midshipmen reports that a 90\\% confidence interval for the average IQ of all midshipmen is 118.2 to 121.8. The Superintendent wants to know the corresponding 99\\% confidence interval. Find it for him, assuming that midshipmen IQs are Normally distributed."
   ]
  },
  {
   "cell_type": "code",
   "execution_count": null,
   "id": "a02a2ce2-7ce6-453e-a5d3-e3091717847f",
   "metadata": {
    "editable": true,
    "slideshow": {
     "slide_type": ""
    },
    "tags": []
   },
   "outputs": [],
   "source": []
  },
  {
   "cell_type": "markdown",
   "id": "7bc1632e-412e-4558-81d6-987f558a57ee",
   "metadata": {
    "editable": true,
    "slideshow": {
     "slide_type": ""
    },
    "tags": [
     "solution"
    ]
   },
   "source": [
    "*Solution.*  In this setting, $n = 20$. \n",
    "\n",
    "The 90\\% confidence interval is $\\Big( \\bar{x} - t_{0.05, 19} \\frac{s}{\\sqrt{n}}, \\bar{x} + t_{0.05, 19} \\frac{s}{\\sqrt{n}} \\Big) = (118.2, 121.8)$. \n",
    "Note that for the 90\\% confidence interval, $\\alpha = 1 - 0.9 = 0.1$.\n",
    "\n",
    "Therefore, $\\bar{x}$ is the center of this interval, which we can find as follows:"
   ]
  },
  {
   "cell_type": "code",
   "execution_count": 18,
   "id": "f1579d79-4f78-402c-936b-98f99c09b029",
   "metadata": {
    "editable": true,
    "slideshow": {
     "slide_type": ""
    },
    "tags": [
     "solution"
    ]
   },
   "outputs": [],
   "source": [
    "# Find xbar by finding the center of the interval\n",
    "xbar <- (118.2 + 121.8) / 2"
   ]
  },
  {
   "cell_type": "markdown",
   "id": "ed158771-711f-4371-ab90-c8025a6ec0ed",
   "metadata": {
    "editable": true,
    "slideshow": {
     "slide_type": ""
    },
    "tags": [
     "solution"
    ]
   },
   "source": [
    "Similarly, the margin of error $t_{0.05, 19} \\frac{s}{\\sqrt{n}}$ is half the width of the interval, which we can find like this:"
   ]
  },
  {
   "cell_type": "code",
   "execution_count": 19,
   "id": "6a280c1a-26e2-4591-b846-87686a968e43",
   "metadata": {
    "editable": true,
    "slideshow": {
     "slide_type": ""
    },
    "tags": [
     "solution"
    ]
   },
   "outputs": [],
   "source": [
    "# Find the margin of error (half the interval width)\n",
    "margin_of_error <- (121.8 - 118.2) / 2"
   ]
  },
  {
   "cell_type": "markdown",
   "id": "d9817fa7-0ddc-42c7-b91b-37e2025d98c6",
   "metadata": {
    "editable": true,
    "slideshow": {
     "slide_type": ""
    },
    "tags": [
     "solution"
    ]
   },
   "source": [
    "We can also find $t_{0.05, 19}$:"
   ]
  },
  {
   "cell_type": "code",
   "execution_count": 20,
   "id": "20bcd08f-eb08-4e65-a5aa-8fc641cfabec",
   "metadata": {
    "editable": true,
    "slideshow": {
     "slide_type": ""
    },
    "tags": [
     "solution"
    ]
   },
   "outputs": [],
   "source": [
    "t90 <- qt(1 - 0.05, 19)"
   ]
  },
  {
   "cell_type": "markdown",
   "id": "258fd347-925d-41cb-a92d-1c78f42c72de",
   "metadata": {
    "editable": true,
    "slideshow": {
     "slide_type": ""
    },
    "tags": [
     "solution"
    ]
   },
   "source": [
    "Therefore, we can solve for the standard error $\\displaystyle \\frac{s}{\\sqrt{n}} = \\frac{\\text{margin of error}}{t_{0.05, 19}}$:"
   ]
  },
  {
   "cell_type": "code",
   "execution_count": 21,
   "id": "55a7dde2-b98d-4b7a-a445-71e748ca0b32",
   "metadata": {
    "editable": true,
    "slideshow": {
     "slide_type": ""
    },
    "tags": [
     "solution"
    ]
   },
   "outputs": [],
   "source": [
    "standard_error <- margin_of_error / t90"
   ]
  },
  {
   "cell_type": "markdown",
   "id": "dd81278d-3dc3-4c50-b0d9-9f94e4129b0f",
   "metadata": {
    "editable": true,
    "slideshow": {
     "slide_type": ""
    },
    "tags": [
     "solution"
    ]
   },
   "source": [
    "Now we can compute the 99\\% confidence interval $\\Big( \\bar{x} - t_{0.005, 19} \\frac{s}{\\sqrt{n}}, \\bar{x} + t_{0.005, 19} \\frac{s}{\\sqrt{n}} \\Big)$:"
   ]
  },
  {
   "cell_type": "code",
   "execution_count": 22,
   "id": "0251cc84-dac9-4991-b4a7-46eb7f0a55d1",
   "metadata": {
    "editable": true,
    "slideshow": {
     "slide_type": ""
    },
    "tags": [
     "solution"
    ]
   },
   "outputs": [
    {
     "data": {
      "text/html": [
       "117.021812172365"
      ],
      "text/latex": [
       "117.021812172365"
      ],
      "text/markdown": [
       "117.021812172365"
      ],
      "text/plain": [
       "[1] 117.0218"
      ]
     },
     "metadata": {},
     "output_type": "display_data"
    },
    {
     "data": {
      "text/html": [
       "122.978187827635"
      ],
      "text/latex": [
       "122.978187827635"
      ],
      "text/markdown": [
       "122.978187827635"
      ],
      "text/plain": [
       "[1] 122.9782"
      ]
     },
     "metadata": {},
     "output_type": "display_data"
    }
   ],
   "source": [
    "t99 <- qt(1 - 0.005, 19)\n",
    "lower <- xbar - t99 * standard_error\n",
    "upper <- xbar + t99 * standard_error\n",
    "\n",
    "lower\n",
    "upper"
   ]
  }
 ],
 "metadata": {
  "kernelspec": {
   "display_name": "R",
   "language": "R",
   "name": "ir"
  },
  "language_info": {
   "codemirror_mode": "r",
   "file_extension": ".r",
   "mimetype": "text/x-r-source",
   "name": "R",
   "pygments_lexer": "r",
   "version": "4.3.2"
  }
 },
 "nbformat": 4,
 "nbformat_minor": 5
}
