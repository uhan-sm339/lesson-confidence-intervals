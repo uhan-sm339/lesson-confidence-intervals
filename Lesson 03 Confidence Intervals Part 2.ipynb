{
 "cells": [
  {
   "cell_type": "markdown",
   "id": "06db13d4-d44c-4520-a997-60f5ed899139",
   "metadata": {
    "editable": true,
    "slideshow": {
     "slide_type": ""
    },
    "tags": []
   },
   "source": [
    "**SM339 &#x25aa; Applied Statistics &#x25aa; Spring 2024 &#x25aa; Uhan**"
   ]
  },
  {
   "cell_type": "markdown",
   "id": "cdf41363-85bc-4628-b26b-aaba8a2caa8a",
   "metadata": {},
   "source": [
    "# Lesson 3. Confidence Intervals &mdash; Part 2"
   ]
  },
  {
   "cell_type": "markdown",
   "id": "1277ea60-c3fc-457c-84fd-f781d2765134",
   "metadata": {},
   "source": [
    "## Computing confidence intervals in R"
   ]
  },
  {
   "cell_type": "markdown",
   "id": "323d4607-5057-4a18-978d-49a6ff91b0d1",
   "metadata": {
    "editable": true,
    "slideshow": {
     "slide_type": ""
    },
    "tags": []
   },
   "source": [
    "### Example\n",
    "\n",
    "Suppose we randomly select 8 midshipmen and record how many children are in their families.\n",
    "These data values are in a CSV file `data/children.csv`, in the same folder as this notebook."
   ]
  },
  {
   "cell_type": "markdown",
   "id": "0b6291f5-936d-4e44-a7b2-6e751258e06f",
   "metadata": {
    "editable": true,
    "slideshow": {
     "slide_type": ""
    },
    "tags": []
   },
   "source": [
    "* First, let's read the CSV file into a data frame called `Children`"
   ]
  },
  {
   "cell_type": "code",
   "execution_count": null,
   "id": "bee79171-c7b6-4c8e-b83a-108297821213",
   "metadata": {
    "editable": true,
    "slideshow": {
     "slide_type": ""
    },
    "tags": []
   },
   "outputs": [],
   "source": [
    "Children <- read.table('data/children.csv', header=TRUE, sep=',')"
   ]
  },
  {
   "cell_type": "markdown",
   "id": "1f023e61-55b6-4dc3-97ec-b2390a460336",
   "metadata": {
    "editable": true,
    "slideshow": {
     "slide_type": ""
    },
    "tags": []
   },
   "source": [
    "* Next, let's take a look at the first few rows of `Children`\n",
    "\n",
    "    * It's always good practice to do this, just to make sure everything looks OK"
   ]
  },
  {
   "cell_type": "code",
   "execution_count": null,
   "id": "8434bb55-cdbc-49c8-83f9-5e09758e3877",
   "metadata": {
    "editable": true,
    "slideshow": {
     "slide_type": ""
    },
    "tags": []
   },
   "outputs": [],
   "source": []
  },
  {
   "cell_type": "markdown",
   "id": "3af3d065-4244-42cd-af95-18ebec575c09",
   "metadata": {
    "editable": true,
    "slideshow": {
     "slide_type": ""
    },
    "tags": []
   },
   "source": [
    "* The values in the `Number` column of this data frame are going to be our sample values $x_1, x_2, \\dots, x_n$\n",
    "\n",
    "* For our convenience, let's create a variable `x` to hold this column"
   ]
  },
  {
   "cell_type": "code",
   "execution_count": null,
   "id": "6c9b2557-0fb2-4673-87c9-4da49ccc069a",
   "metadata": {
    "editable": true,
    "slideshow": {
     "slide_type": ""
    },
    "tags": []
   },
   "outputs": [],
   "source": []
  },
  {
   "attachments": {},
   "cell_type": "markdown",
   "id": "35ccdce0-4307-4a3d-946f-d286d0bac7e8",
   "metadata": {
    "editable": true,
    "slideshow": {
     "slide_type": ""
    },
    "tags": []
   },
   "source": [
    "* Let's calculate a 95% confidence interval for the average number of children in all midshipmen families\n",
    "\n",
    "* Let's start by computing the sample mean (estimate) $\\bar{x} = \\displaystyle \\frac{1}{n} \\sum_{i=1}^{n} x_i$:"
   ]
  },
  {
   "cell_type": "code",
   "execution_count": null,
   "id": "4a6679c0-bbf0-4627-80e2-d71870704932",
   "metadata": {
    "editable": true,
    "slideshow": {
     "slide_type": ""
    },
    "tags": []
   },
   "outputs": [],
   "source": []
  },
  {
   "cell_type": "markdown",
   "id": "b81e4327-3ebd-42c1-9408-a3f00a1c2010",
   "metadata": {
    "editable": true,
    "slideshow": {
     "slide_type": ""
    },
    "tags": []
   },
   "source": [
    "* Next, let's compute the sample standard deviation (estimate) $\\displaystyle s = \\sqrt{\\frac{1}{n-1} \\sum_{i=1}^{n} (x_i - \\bar{x})^2}$: "
   ]
  },
  {
   "cell_type": "code",
   "execution_count": null,
   "id": "06bb3c69-2d01-43fc-bfac-aefa3d522c25",
   "metadata": {
    "editable": true,
    "slideshow": {
     "slide_type": ""
    },
    "tags": []
   },
   "outputs": [],
   "source": []
  },
  {
   "cell_type": "markdown",
   "id": "3cc7c36b-fbee-43cf-ab38-18379807922b",
   "metadata": {
    "editable": true,
    "slideshow": {
     "slide_type": ""
    },
    "tags": []
   },
   "source": [
    "* We can get the number of samples $n$ by taking the length of `x` (which is the same as the column `Children$Number`):"
   ]
  },
  {
   "cell_type": "code",
   "execution_count": null,
   "id": "19fc9ad0-73df-4b52-833f-40d72f01e29d",
   "metadata": {
    "editable": true,
    "slideshow": {
     "slide_type": ""
    },
    "tags": []
   },
   "outputs": [],
   "source": []
  },
  {
   "cell_type": "markdown",
   "id": "c1cacaf3-52bc-48f2-8621-fc2542e0f842",
   "metadata": {
    "editable": true,
    "slideshow": {
     "slide_type": ""
    },
    "tags": []
   },
   "source": [
    "* We want a $95\\%$ confidence interval\n",
    "\n",
    "* Recall that the significance level $\\alpha = 1 - $ confidence level\n",
    "\n",
    "* So, $\\alpha = 1 - 0.95$:"
   ]
  },
  {
   "cell_type": "code",
   "execution_count": null,
   "id": "fb3e12d2-442f-403d-beac-3d57c999f427",
   "metadata": {
    "editable": true,
    "slideshow": {
     "slide_type": ""
    },
    "tags": []
   },
   "outputs": [],
   "source": []
  },
  {
   "cell_type": "markdown",
   "id": "fbe9d995-b0fb-4726-b2ed-41c1ca55e3e7",
   "metadata": {
    "editable": true,
    "slideshow": {
     "slide_type": ""
    },
    "tags": []
   },
   "source": [
    "* Based on `alpha`, we can then compute the critical value $t_{\\alpha/2, n - 1}$ from the $t$-distribution with $n - 1$ degrees of freedom\n",
    "\n",
    "* Recall that $t_{\\alpha/2, n - 1}$ is the $(1 - \\alpha/2)$-quantile of the $t$-distribution with $n - 1$ degrees of freedom:"
   ]
  },
  {
   "cell_type": "code",
   "execution_count": null,
   "id": "6204d1af-b32b-422d-8f6d-b40c1ac568fe",
   "metadata": {
    "editable": true,
    "slideshow": {
     "slide_type": ""
    },
    "tags": []
   },
   "outputs": [],
   "source": []
  },
  {
   "cell_type": "markdown",
   "id": "7f4e5773-5716-48d8-8f02-aa97f60556e0",
   "metadata": {
    "editable": true,
    "slideshow": {
     "slide_type": ""
    },
    "tags": []
   },
   "source": [
    "* Finally, we can compute the lower and upper endpoints of the CI, $\\bar{x} \\pm t_{\\alpha/2, n - 1} \\frac{s}{\\sqrt{n}}$:"
   ]
  },
  {
   "cell_type": "code",
   "execution_count": null,
   "id": "2cbfa9d1-256d-40be-a2c6-83e37ed7552f",
   "metadata": {
    "editable": true,
    "slideshow": {
     "slide_type": ""
    },
    "tags": []
   },
   "outputs": [],
   "source": []
  },
  {
   "cell_type": "markdown",
   "id": "3fe80b55-1f9b-4331-9a87-9fa56afaf930",
   "metadata": {
    "editable": true,
    "slideshow": {
     "slide_type": ""
    },
    "tags": []
   },
   "source": [
    "* Now that we've computed a 95% confidence interval, let's intepret it:"
   ]
  },
  {
   "cell_type": "markdown",
   "id": "2d347ed9-dfaa-4735-81b7-d2df64f22326",
   "metadata": {
    "editable": true,
    "slideshow": {
     "slide_type": ""
    },
    "tags": []
   },
   "source": [
    "*Write your answer here. Double-click to edit.*"
   ]
  },
  {
   "cell_type": "markdown",
   "id": "85218a0a-18ad-43a8-99af-e5a4073fd886",
   "metadata": {
    "editable": true,
    "slideshow": {
     "slide_type": ""
    },
    "tags": []
   },
   "source": [
    "* Which of these correctly explains what it means to be 95% confident?\n",
    "\n",
    "    1. The probability that this interval contains the population average is 0.95.\n",
    "    2. We have constructed this interval with a process that captures the population average 95% of the time.\n",
    "    3. 95% of all midshipmen families have between 2.16 and 4.84 children."
   ]
  },
  {
   "cell_type": "markdown",
   "id": "d0f7213b-35f1-444a-9f45-5b9451554cd1",
   "metadata": {
    "editable": true,
    "slideshow": {
     "slide_type": ""
    },
    "tags": []
   },
   "source": [
    "*Write your answer here. Double-click to edit.*"
   ]
  },
  {
   "cell_type": "markdown",
   "id": "665b582c-5368-462d-99af-5589a7ff27d2",
   "metadata": {
    "editable": true,
    "slideshow": {
     "slide_type": ""
    },
    "tags": []
   },
   "source": [
    "<hr style=\"border-top: 2px solid gray; margin-top: 1px; margin-bottom: 1px\"></hr>"
   ]
  },
  {
   "cell_type": "markdown",
   "id": "54a3b825-2279-441c-a37a-0362585755e6",
   "metadata": {
    "editable": true,
    "slideshow": {
     "slide_type": ""
    },
    "tags": []
   },
   "source": [
    "## Exercises"
   ]
  },
  {
   "cell_type": "markdown",
   "id": "5f52491d-c3b0-459b-b46d-17e5d51662d0",
   "metadata": {
    "editable": true,
    "slideshow": {
     "slide_type": ""
    },
    "tags": []
   },
   "source": [
    "### Problem 1\n",
    "\n",
    "Suppose the heights of midshipmen are normally distributed.\n",
    "Suppose we randomly select 16 midshipmen and record their heights in inches.\n",
    "These values are in a CSV file `data/heights.csv`, in the same folder as this notebook."
   ]
  },
  {
   "cell_type": "markdown",
   "id": "037a9c58-fb46-4479-9516-5fc8295d5681",
   "metadata": {
    "editable": true,
    "slideshow": {
     "slide_type": ""
    },
    "tags": []
   },
   "source": [
    "(a) Compute the observed sample mean and sample standard deviation."
   ]
  },
  {
   "cell_type": "code",
   "execution_count": null,
   "id": "f6ed53ff-a4bd-4119-af38-52736d06ca1b",
   "metadata": {
    "editable": true,
    "slideshow": {
     "slide_type": ""
    },
    "tags": []
   },
   "outputs": [],
   "source": []
  },
  {
   "cell_type": "markdown",
   "id": "261b96e6-b217-476b-adb8-0cda29b8338d",
   "metadata": {},
   "source": [
    "(b) Find 90%, 95%, and 99% confidence intervals for the population (all midshipmen) mean height."
   ]
  },
  {
   "cell_type": "code",
   "execution_count": null,
   "id": "ece60370-391d-4737-98bf-c98958654356",
   "metadata": {},
   "outputs": [],
   "source": []
  },
  {
   "cell_type": "code",
   "execution_count": null,
   "id": "a4769d49-0cf0-47e0-bff3-b72561729f68",
   "metadata": {},
   "outputs": [],
   "source": []
  },
  {
   "cell_type": "code",
   "execution_count": null,
   "id": "b3c3f9f9-8f5b-4627-afa1-7980bb9b93fb",
   "metadata": {},
   "outputs": [],
   "source": []
  },
  {
   "cell_type": "markdown",
   "id": "84c0a7f4-4993-4d9a-9840-204060ff6570",
   "metadata": {
    "tags": []
   },
   "source": [
    "### Problem 2\n",
    "\n",
    "Suppose the math SAT scores of midshipmen are approximately normally distributed.\n",
    "Suppose we randomly select 25 midshipmen and record their math SAT scores.\n",
    "These values are in a CSV file `data/scores.csv`, in the same folder as this notebook."
   ]
  },
  {
   "cell_type": "markdown",
   "id": "55363ee8-a491-4a55-89fd-94caaef431bd",
   "metadata": {
    "editable": true,
    "slideshow": {
     "slide_type": ""
    },
    "tags": []
   },
   "source": [
    "(a) Compute the observed sample mean and sample standard deviation."
   ]
  },
  {
   "cell_type": "code",
   "execution_count": null,
   "id": "3e6d3d33-7c35-4b85-a85e-d39284bf02a9",
   "metadata": {
    "editable": true,
    "slideshow": {
     "slide_type": ""
    },
    "tags": []
   },
   "outputs": [],
   "source": []
  },
  {
   "cell_type": "markdown",
   "id": "13503eee-de53-42e3-8d0f-a406cc5e8711",
   "metadata": {
    "editable": true,
    "slideshow": {
     "slide_type": ""
    },
    "tags": []
   },
   "source": [
    "(b) Find 90%, 95%, and 99% confidence intervals for the population (all midshipmen) mean math SAT score."
   ]
  },
  {
   "cell_type": "code",
   "execution_count": null,
   "id": "e7f63dec-3f00-42e5-93b1-6bab06bd5cf8",
   "metadata": {
    "editable": true,
    "slideshow": {
     "slide_type": ""
    },
    "tags": []
   },
   "outputs": [],
   "source": []
  },
  {
   "cell_type": "code",
   "execution_count": null,
   "id": "924ba92c-5b41-4e61-afc2-02a81765dff5",
   "metadata": {},
   "outputs": [],
   "source": []
  },
  {
   "cell_type": "code",
   "execution_count": null,
   "id": "fa79b83e-5a80-4bf8-b1b3-1fb4925d42e8",
   "metadata": {},
   "outputs": [],
   "source": []
  },
  {
   "cell_type": "markdown",
   "id": "19756f22-6e3a-490b-a887-352b11d2406b",
   "metadata": {
    "editable": true,
    "slideshow": {
     "slide_type": ""
    },
    "tags": []
   },
   "source": [
    "### Problem 3\n",
    "\n",
    "A study of 20 midshipmen reports that a 90\\% confidence interval for the average IQ of all midshipmen is 118.2 to 121.8. The Superintendent wants to know the corresponding 99\\% confidence interval. Find it for him, assuming that midshipmen IQs are Normally distributed."
   ]
  },
  {
   "cell_type": "code",
   "execution_count": null,
   "id": "a02a2ce2-7ce6-453e-a5d3-e3091717847f",
   "metadata": {
    "editable": true,
    "slideshow": {
     "slide_type": ""
    },
    "tags": []
   },
   "outputs": [],
   "source": []
  }
 ],
 "metadata": {
  "kernelspec": {
   "display_name": "R",
   "language": "R",
   "name": "ir"
  },
  "language_info": {
   "codemirror_mode": "r",
   "file_extension": ".r",
   "mimetype": "text/x-r-source",
   "name": "R",
   "pygments_lexer": "r",
   "version": "4.3.2"
  }
 },
 "nbformat": 4,
 "nbformat_minor": 5
}
